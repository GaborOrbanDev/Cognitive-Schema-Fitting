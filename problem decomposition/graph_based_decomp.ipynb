{
 "cells": [
  {
   "cell_type": "code",
   "execution_count": 14,
   "metadata": {},
   "outputs": [],
   "source": [
    "import os\n",
    "from dotenv import load_dotenv\n",
    "from typing_extensions import TypedDict\n",
    "from langchain_core.prompts import ChatPromptTemplate, SystemMessagePromptTemplate, HumanMessagePromptTemplate\n",
    "from langchain_openai import ChatOpenAI\n",
    "from langgraph.graph import StateGraph, MessagesState, START, END\n",
    "import openai\n",
    "\n",
    "load_dotenv()\n",
    "openai.api_key = os.getenv(\"OPENAI_API_KEY\")"
   ]
  },
  {
   "cell_type": "code",
   "execution_count": 15,
   "metadata": {},
   "outputs": [],
   "source": [
    "class TaskPlan(TypedDict):\n",
    "    name: str\n",
    "    description: str\n",
    "    expected_output: str"
   ]
  },
  {
   "cell_type": "code",
   "execution_count": 16,
   "metadata": {},
   "outputs": [],
   "source": [
    "class ProblemDecomposition(MessagesState):\n",
    "    input_problem: str\n",
    "    decomposed: bool = False\n",
    "    tasks: list[TaskPlan]"
   ]
  },
  {
   "cell_type": "code",
   "execution_count": 57,
   "metadata": {},
   "outputs": [],
   "source": [
    "class Nodes:\n",
    "    def __init__(self):\n",
    "        self.llm = ChatOpenAI(model=\"gpt-4o\", temperature=0.5)\n",
    "        self.eval_llm = ChatOpenAI(model=\"gpt-4o\", temperature=0.7, stop_sequences=[\"<</STOP>>\"])\n",
    "\n",
    "    def intitial_problem_decomposition(self, state: ProblemDecomposition):\n",
    "        system_prompt_text = \"\"\"You are the AI component of a multi-agent AI system. Your task is to decompose a given problem into smaller tasks.\n",
    "                                You always think before your answer. Always think on the language language of the user's input prompt.\"\"\"\n",
    "        \n",
    "        suffix_instruction = \"\"\"For first step specify some general tasks/problems/subquestion that's need to be solved to answer the\n",
    "                            original question corretly. DO NOT decompose the task into too specific subtasks. I need more general one. These general\n",
    "                            subtasks will be solved by special schemas.\"\"\"\n",
    "        \n",
    "        prompt = ChatPromptTemplate.from_messages([\n",
    "            (\"system\", system_prompt_text),\n",
    "            (\"human\", \"**User prompt:**\\n{input_problem}\\n---------\\n\" + suffix_instruction)\n",
    "        ])\n",
    "\n",
    "        chain = prompt | self.llm\n",
    "        \n",
    "        return {\"messages\": [*prompt.invoke(state[\"input_problem\"]).to_messages(), chain.invoke(state[\"input_problem\"])]}\n",
    "    \n",
    "\n",
    "    def self_evaluate(self, state: ProblemDecomposition):\n",
    "        evaluation_prompt = \"\"\"Check out the above generated tasks. Evalutate if they are relevant to solve or not relevant. \n",
    "                                In addition evaluate if they are general enough.\n",
    "                                After the evaluation, say `<REFINE>` if you recommand to refine the tasks and says `<OK>` if refinement is not needed.\n",
    "                                Be self-critical. In the refinement phase, you will decide whether to rephrase the task / group together more tasks / remove task from the list.\n",
    "                                ALWAYS FINISH EVALUATION WITH `<OK><</STOP>>` or `<REFINE><</STOP>>` label.\"\"\"\n",
    "        \n",
    "        prompt = ChatPromptTemplate.from_messages([\n",
    "            *state[\"messages\"],\n",
    "            (\"human\", \"{input}\")\n",
    "        ])\n",
    "\n",
    "        chain = prompt | self.eval_llm\n",
    "\n",
    "        context = [*prompt.invoke(evaluation_prompt).to_messages(), chain.invoke(evaluation_prompt)]\n",
    "\n",
    "        if context[-1].content.endswith(\"<OK>\"):\n",
    "            return {\n",
    "                \"messages\": context,\n",
    "                \"decomposed\": True\n",
    "            }\n",
    "        else:\n",
    "            return {\n",
    "                \"messages\": context,\n",
    "                \"decomposed\": False\n",
    "            }\n",
    "        "
   ]
  },
  {
   "cell_type": "code",
   "execution_count": 58,
   "metadata": {},
   "outputs": [],
   "source": [
    "node = Nodes()\n",
    "\n",
    "graph = StateGraph(ProblemDecomposition)\n",
    "graph.add_node(\"problem_decomposition\", node.intitial_problem_decomposition)\n",
    "graph.add_node(\"self_evaluate\", node.self_evaluate)\n",
    "\n",
    "graph.add_edge(START, \"problem_decomposition\")\n",
    "graph.add_edge(\"problem_decomposition\", \"self_evaluate\")\n",
    "graph.add_edge(\"self_evaluate\", END)\n",
    "\n",
    "graph = graph.compile()"
   ]
  },
  {
   "cell_type": "code",
   "execution_count": 39,
   "metadata": {},
   "outputs": [],
   "source": [
    "from IPython.display import Image, display"
   ]
  },
  {
   "cell_type": "code",
   "execution_count": 56,
   "metadata": {},
   "outputs": [
    {
     "data": {
      "image/png": "[encoded data removed]",
      "text/plain": [
       "<IPython.core.display.Image object>"
      ]
     },
     "metadata": {},
     "output_type": "display_data"
    }
   ],
   "source": [
    "display(Image(graph.get_graph().draw_mermaid_png()))"
   ]
  },
  {
   "cell_type": "code",
   "execution_count": 59,
   "metadata": {},
   "outputs": [
    {
     "name": "stdout",
     "output_type": "stream",
     "text": [
      "{'problem_decomposition': {'messages': [SystemMessage(content=\"You are the AI component of a multi-agent AI system. Your task is to decompose a given problem into smaller tasks.\\n                                You always think before your answer. Always think on the language language of the user's input prompt.\", additional_kwargs={}, response_metadata={}, id='0dd88847-10e0-4065-b5e5-bb791ec0e7c2'), HumanMessage(content=\"**User prompt:**\\nHow to build a house?\\n---------\\nFor first step specify some general tasks/problems/subquestion that's need to be solved to answer the\\n                            original question corretly. DO NOT decompose the task into too specific subtasks. I need more general one. These general\\n                            subtasks will be solved by special schemas.\", additional_kwargs={}, response_metadata={}, id='548c04ef-b163-46f5-8e65-11393a5cdf20'), AIMessage(content='To build a house, there are several general tasks or subquestions that need to be addressed. These tasks encompass the broad phases of construction and planning. Here they are:\\n\\n1. **Planning and Design:**\\n   - Determine the purpose and requirements of the house.\\n   - Develop architectural designs and floor plans.\\n   - Obtain necessary permits and approvals from local authorities.\\n\\n2. **Budgeting and Financing:**\\n   - Estimate the total cost of construction.\\n   - Secure financing or loans if necessary.\\n   - Allocate budget for different phases of construction.\\n\\n3. **Site Preparation:**\\n   - Conduct a site survey and soil analysis.\\n   - Clear the land and prepare the foundation.\\n   - Address any zoning or environmental regulations.\\n\\n4. **Construction:**\\n   - Build the foundation and structural framework.\\n   - Install roofing, windows, and doors.\\n   - Complete interior and exterior finishes.\\n\\n5. **Utilities and Systems Installation:**\\n   - Install plumbing, electrical, and HVAC systems.\\n   - Ensure compliance with safety and efficiency standards.\\n\\n6. **Inspections and Compliance:**\\n   - Schedule inspections at various stages of construction.\\n   - Ensure all work meets building codes and regulations.\\n\\n7. **Final Touches and Landscaping:**\\n   - Complete interior design and furnishings.\\n   - Develop landscaping and outdoor spaces.\\n\\n8. **Handover and Maintenance:**\\n   - Conduct a final walkthrough and address any issues.\\n   - Provide maintenance guidelines and warranties.\\n\\nThese general tasks provide a framework for building a house and can be further decomposed into more specific tasks as needed.', additional_kwargs={'refusal': None}, response_metadata={'token_usage': {'completion_tokens': 317, 'prompt_tokens': 124, 'total_tokens': 441, 'completion_tokens_details': {'accepted_prediction_tokens': 0, 'audio_tokens': 0, 'reasoning_tokens': 0, 'rejected_prediction_tokens': 0}, 'prompt_tokens_details': {'audio_tokens': 0, 'cached_tokens': 0}}, 'model_name': 'gpt-4o-2024-08-06', 'system_fingerprint': 'fp_45cf54deae', 'finish_reason': 'stop', 'logprobs': None}, id='run-605f2778-6b5a-4007-8f42-73a0c3567938-0', usage_metadata={'input_tokens': 124, 'output_tokens': 317, 'total_tokens': 441, 'input_token_details': {'audio': 0, 'cache_read': 0}, 'output_token_details': {'audio': 0, 'reasoning': 0}})]}}\n",
      "_-------------------------_\n",
      "{'self_evaluate': {'messages': [SystemMessage(content=\"You are the AI component of a multi-agent AI system. Your task is to decompose a given problem into smaller tasks.\\n                                You always think before your answer. Always think on the language language of the user's input prompt.\", additional_kwargs={}, response_metadata={}, id='0dd88847-10e0-4065-b5e5-bb791ec0e7c2'), HumanMessage(content=\"**User prompt:**\\nHow to build a house?\\n---------\\nFor first step specify some general tasks/problems/subquestion that's need to be solved to answer the\\n                            original question corretly. DO NOT decompose the task into too specific subtasks. I need more general one. These general\\n                            subtasks will be solved by special schemas.\", additional_kwargs={}, response_metadata={}, id='548c04ef-b163-46f5-8e65-11393a5cdf20'), AIMessage(content='To build a house, there are several general tasks or subquestions that need to be addressed. These tasks encompass the broad phases of construction and planning. Here they are:\\n\\n1. **Planning and Design:**\\n   - Determine the purpose and requirements of the house.\\n   - Develop architectural designs and floor plans.\\n   - Obtain necessary permits and approvals from local authorities.\\n\\n2. **Budgeting and Financing:**\\n   - Estimate the total cost of construction.\\n   - Secure financing or loans if necessary.\\n   - Allocate budget for different phases of construction.\\n\\n3. **Site Preparation:**\\n   - Conduct a site survey and soil analysis.\\n   - Clear the land and prepare the foundation.\\n   - Address any zoning or environmental regulations.\\n\\n4. **Construction:**\\n   - Build the foundation and structural framework.\\n   - Install roofing, windows, and doors.\\n   - Complete interior and exterior finishes.\\n\\n5. **Utilities and Systems Installation:**\\n   - Install plumbing, electrical, and HVAC systems.\\n   - Ensure compliance with safety and efficiency standards.\\n\\n6. **Inspections and Compliance:**\\n   - Schedule inspections at various stages of construction.\\n   - Ensure all work meets building codes and regulations.\\n\\n7. **Final Touches and Landscaping:**\\n   - Complete interior design and furnishings.\\n   - Develop landscaping and outdoor spaces.\\n\\n8. **Handover and Maintenance:**\\n   - Conduct a final walkthrough and address any issues.\\n   - Provide maintenance guidelines and warranties.\\n\\nThese general tasks provide a framework for building a house and can be further decomposed into more specific tasks as needed.', additional_kwargs={'refusal': None}, response_metadata={'token_usage': {'completion_tokens': 317, 'prompt_tokens': 124, 'total_tokens': 441, 'completion_tokens_details': {'accepted_prediction_tokens': 0, 'audio_tokens': 0, 'reasoning_tokens': 0, 'rejected_prediction_tokens': 0}, 'prompt_tokens_details': {'audio_tokens': 0, 'cached_tokens': 0}}, 'model_name': 'gpt-4o-2024-08-06', 'system_fingerprint': 'fp_45cf54deae', 'finish_reason': 'stop', 'logprobs': None}, id='run-605f2778-6b5a-4007-8f42-73a0c3567938-0', usage_metadata={'input_tokens': 124, 'output_tokens': 317, 'total_tokens': 441, 'input_token_details': {'audio': 0, 'cache_read': 0}, 'output_token_details': {'audio': 0, 'reasoning': 0}}), HumanMessage(content='Check out the above generated tasks. Evalutate if they are relevant to solve or not relevant. \\n                                In addition evaluate if they are general enough.\\n                                After the evaluation, say `<REFINE>` if you recommand to refine the tasks and says `<OK>` if refinement is not needed.\\n                                Be self-critical. In the refinement phase, you will decide whether to rephrase the task / group together more tasks / remove task from the list.\\n                                ALWAYS FINISH EVALUATION WITH `<OK><</STOP>>` or `<REFINE><</STOP>>` label.', additional_kwargs={}, response_metadata={}, id='0803dcf9-8388-4dab-ade8-48b8dd4fedc9'), AIMessage(content='**Evaluation of Tasks:**\\n\\n1. **Planning and Design:**\\n   - *Relevance:* Highly relevant as it sets the foundation for all subsequent tasks.\\n   - *Generality:* General enough to encompass various aspects of the design phase.\\n\\n2. **Budgeting and Financing:**\\n   - *Relevance:* Crucial for ensuring the project is financially viable.\\n   - *Generality:* General but could include aspects of cost management.\\n\\n3. **Site Preparation:**\\n   - *Relevance:* Essential for preparing the construction site.\\n   - *Generality:* General, but specific steps like soil analysis might be considered too detailed.\\n\\n4. **Construction:**\\n   - *Relevance:* Central to the entire process.\\n   - *Generality:* General enough to include various construction activities.\\n\\n5. **Utilities and Systems Installation:**\\n   - *Relevance:* Necessary for functional living spaces.\\n   - *Generality:* Adequately general for this stage.\\n\\n6. **Inspections and Compliance:**\\n   - *Relevance:* Important for safety and legal compliance.\\n   - *Generality:* General but could be grouped with the construction phase.\\n\\n7. **Final Touches and Landscaping:**\\n   - *Relevance:* Important for the completion of the project.\\n   - *Generality:* Sufficiently general, but landscaping could be seen as a separate task.\\n\\n8. **Handover and Maintenance:**\\n   - *Relevance:* Relevant as the final step before occupancy.\\n   - *Generality:* General, though maintenance might be overly specific.\\n\\nOverall, the tasks are relevant and mostly general. However, some tasks could be refined or grouped for improved clarity and efficiency, such as potentially combining \"Inspections and Compliance\" with \"Construction\" and considering the separation of landscaping.\\n\\n**Conclusion:** `<REFINE>', additional_kwargs={'refusal': None}, response_metadata={'token_usage': {'completion_tokens': 371, 'prompt_tokens': 564, 'total_tokens': 935, 'completion_tokens_details': {'accepted_prediction_tokens': 0, 'audio_tokens': 0, 'reasoning_tokens': 0, 'rejected_prediction_tokens': 0}, 'prompt_tokens_details': {'audio_tokens': 0, 'cached_tokens': 0}}, 'model_name': 'gpt-4o-2024-08-06', 'system_fingerprint': 'fp_45cf54deae', 'finish_reason': 'stop', 'logprobs': None}, id='run-9460565e-fbb9-41f9-97a3-7201519cdcda-0', usage_metadata={'input_tokens': 564, 'output_tokens': 371, 'total_tokens': 935, 'input_token_details': {'audio': 0, 'cache_read': 0}, 'output_token_details': {'audio': 0, 'reasoning': 0}})], 'decomposed': False}}\n",
      "_-------------------------_\n"
     ]
    }
   ],
   "source": [
    "for task in graph.stream({\"input_problem\": \"How to build a house?\"}):\n",
    "    print(task)\n",
    "    print(\"_-------------------------_\")"
   ]
  }
 ],
 "metadata": {
  "kernelspec": {
   "display_name": "csf",
   "language": "python",
   "name": "python3"
  },
  "language_info": {
   "codemirror_mode": {
    "name": "ipython",
    "version": 3
   },
   "file_extension": ".py",
   "mimetype": "text/x-python",
   "name": "python",
   "nbconvert_exporter": "python",
   "pygments_lexer": "ipython3",
   "version": "3.12.7"
  }
 },
 "nbformat": 4,
 "nbformat_minor": 2
}
