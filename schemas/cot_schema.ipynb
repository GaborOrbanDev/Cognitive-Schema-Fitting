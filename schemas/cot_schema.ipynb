{
 "cells": [
  {
   "cell_type": "code",
   "execution_count": 69,
   "metadata": {},
   "outputs": [],
   "source": [
    "import os\n",
    "from operator import add\n",
    "from typing_extensions import TypedDict, Annotated\n",
    "import yaml\n",
    "from dotenv import load_dotenv\n",
    "from langchain_core.messages import SystemMessage, HumanMessage\n",
    "from langchain_core.prompts import ChatPromptTemplate, SystemMessagePromptTemplate\n",
    "from langchain_openai import ChatOpenAI\n",
    "from langgraph.graph import StateGraph, MessagesState, START, END\n",
    "from langgraph.graph.message import AnyMessage, add_messages\n",
    "import openai\n",
    "\n",
    "load_dotenv()\n",
    "\n",
    "openai.api_key = os.getenv(\"OPENAI_API_KEY\")"
   ]
  },
  {
   "cell_type": "code",
   "execution_count": 67,
   "metadata": {},
   "outputs": [],
   "source": [
    "with open(\"prompts.yaml\", \"r\") as file:\n",
    "    PROMPTS = yaml.safe_load(file)"
   ]
  },
  {
   "cell_type": "code",
   "execution_count": 54,
   "metadata": {},
   "outputs": [],
   "source": [
    "class Task(TypedDict):\n",
    "    \"\"\"Represent a task, i.e. a general subproblem of the user's prompt which needs to be solved.\"\"\"\n",
    "    \n",
    "    name: Annotated[str, \"The name of the task.\"]\n",
    "    description: Annotated[str, \"The description of the task.\"]\n",
    "    expected_output: Annotated[str, \"The expected output or contribution of the task.\"]\n",
    "\n",
    "\n",
    "class InputState(TypedDict):\n",
    "    input_problem: str\n",
    "    task_history: list[Task]\n",
    "    task: Annotated[Task, \"The current task to solve.\"]\n",
    "\n",
    "\n",
    "class OutputState(TypedDict):\n",
    "    solution: Annotated[str | None, \"The solution to the current task.\"] = None\n",
    "    recommendation: Annotated[str | None, \"A recommendation for the process router.\"] = None\n",
    "    partial_solution: Annotated[str | None, \"A partial solution to the current task if the task is not yet solved.\"] = None\n",
    "\n",
    "\n",
    "class SchemaState(InputState, OutputState):\n",
    "    messages: Annotated[list[AnyMessage], add_messages] = []"
   ]
  },
  {
   "cell_type": "code",
   "execution_count": 51,
   "metadata": {},
   "outputs": [],
   "source": [
    "class SchemaSetup:\n",
    "    def __call__(self, state: InputState) -> SchemaState:\n",
    "        prompt_template = SystemMessagePromptTemplate.from_template(template=PROMPTS[\"system_prompt\"])\n",
    "        prompt_template = prompt_template.format_messages(input_problem=state[\"input_problem\"], task_history=state[\"task_history\"], task=state[\"task\"])[0]\n",
    "        setattr(prompt_template, \"source_node\", self.__class__.__name__)\n",
    "        return {\n",
    "            \"messages\": [prompt_template]\n",
    "        }"
   ]
  },
  {
   "cell_type": "code",
   "execution_count": 50,
   "metadata": {},
   "outputs": [],
   "source": [
    "class Cognition:\n",
    "    def __init__(self):\n",
    "        self.cognition_llm = ChatOpenAI(model=\"gpt-4o\", top_p=0.8)\n",
    "        self.refine_cognition_llm = ChatOpenAI(model=\"gpt-4o\", temperature=0.4)\n",
    "        self.refine_counter = 0\n",
    "\n",
    "    def __call__(self, state: SchemaState) -> SchemaState:\n",
    "        if getattr(state[\"messages\"][-1], \"source_node\", None) == \"SchemaSetup\":\n",
    "            return self.first_round_cognition(state)\n",
    "        else:\n",
    "            self.refine_counter += 1\n",
    "            raise NotImplementedError\n",
    "\n",
    "    def first_round_cognition(self, state: SchemaState) -> SchemaState:\n",
    "        ai_message = self.cognition_llm.invoke(state[\"messages\"])\n",
    "        setattr(ai_message, \"source_node\", self.__class__.__name__)\n",
    "        return {\n",
    "            \"messages\": [ai_message]\n",
    "        }\n",
    "\n",
    "    def refine_cognition(self, state: SchemaState) -> SchemaState:\n",
    "        pass"
   ]
  },
  {
   "cell_type": "code",
   "execution_count": null,
   "metadata": {},
   "outputs": [],
   "source": [
    "class PartialEvaluation:\n",
    "    def __init__(self) -> None:\n",
    "        self.partial_evaluation_llm = ChatOpenAI(model=\"gpt-4o\", temperature=0.5, stop_sequences=[\"<</STOP>>\"])\n",
    "\n",
    "    def __call__(self, state: SchemaState) -> SchemaState:\n",
    "        context = state[\"messages\"] + [HumanMessage(PROMPTS[\"evaluation_prompt\"], source_node=self.__class__.__name__)]\n",
    "        ai_message = self.partial_evaluation_llm.invoke(context)\n",
    "        setattr(ai_message, \"source_node\", self.__class__.__name__)\n",
    "        setattr(ai_message, \"is_ok\", ai_message.content.endswith(\"<<OK>>\"))\n",
    "        return {\n",
    "            \"messages\": [ai_message]\n",
    "        }"
   ]
  },
  {
   "cell_type": "code",
   "execution_count": 74,
   "metadata": {},
   "outputs": [],
   "source": [
    "setup = SchemaSetup()\n",
    "cognition = Cognition()\n",
    "evaluation = PartialEvaluation()\n",
    "\n",
    "graph = StateGraph(SchemaState, input=InputState, output=OutputState)\n",
    "graph.add_node(\"setup\", setup)\n",
    "graph.add_node(\"cognition\", cognition)\n",
    "graph.add_node(\"partial_evaluation\", evaluation)\n",
    "graph.add_edge(START, \"setup\")\n",
    "graph.add_edge(\"setup\", \"cognition\")\n",
    "graph.add_edge(\"cognition\", \"partial_evaluation\")\n",
    "graph.add_conditional_edges(\"partial_evaluation\", lambda state: getattr(state[\"messages\"][-1], \"is_ok\", False), {True: END, False: \"cognition\"})\n",
    "graph = graph.compile()"
   ]
  },
  {
   "cell_type": "code",
   "execution_count": 75,
   "metadata": {},
   "outputs": [
    {
     "data": {
      "image/png": "[encoded data removed]",
      "text/plain": [
       "<IPython.core.display.Image object>"
      ]
     },
     "metadata": {},
     "output_type": "display_data"
    }
   ],
   "source": [
    "from IPython.display import Image, display\n",
    "from langchain_core.runnables.graph import CurveStyle, MermaidDrawMethod, NodeStyles\n",
    "\n",
    "display(Image(graph.get_graph().draw_mermaid_png(draw_method=MermaidDrawMethod.API,)))"
   ]
  },
  {
   "cell_type": "code",
   "execution_count": 66,
   "metadata": {},
   "outputs": [],
   "source": [
    "graph.invoke({\"input_problem\": \"I want to build a website.\", \"task_history\": [], \"task\": {\"name\": \"Create a website\", \"description\": \"Create a website for my business.\", \"expected_output\": \"A website for my business.\"}})"
   ]
  }
 ],
 "metadata": {
  "kernelspec": {
   "display_name": "CSF",
   "language": "python",
   "name": "python3"
  },
  "language_info": {
   "codemirror_mode": {
    "name": "ipython",
    "version": 3
   },
   "file_extension": ".py",
   "mimetype": "text/x-python",
   "name": "python",
   "nbconvert_exporter": "python",
   "pygments_lexer": "ipython3",
   "version": "3.12.0"
  }
 },
 "nbformat": 4,
 "nbformat_minor": 2
}
