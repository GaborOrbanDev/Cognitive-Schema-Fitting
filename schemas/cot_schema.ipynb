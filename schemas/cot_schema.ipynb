{
 "cells": [
  {
   "cell_type": "code",
   "execution_count": 16,
   "metadata": {},
   "outputs": [],
   "source": [
    "import os\n",
    "from operator import add\n",
    "from typing_extensions import TypedDict, Annotated\n",
    "import yaml\n",
    "from dotenv import load_dotenv\n",
    "from langchain_core.messages import SystemMessage, HumanMessage\n",
    "from langchain_core.prompts import ChatPromptTemplate, SystemMessagePromptTemplate\n",
    "from langchain_openai import ChatOpenAI\n",
    "from langgraph.graph import StateGraph, MessagesState, START, END\n",
    "from langgraph.graph.message import AnyMessage, add_messages\n",
    "import openai\n",
    "from pydantic import BaseModel, Field\n",
    "\n",
    "load_dotenv()\n",
    "\n",
    "openai.api_key = os.getenv(\"OPENAI_API_KEY\")"
   ]
  },
  {
   "cell_type": "code",
   "execution_count": 3,
   "metadata": {},
   "outputs": [],
   "source": [
    "with open(\"prompts.yaml\", \"r\") as file:\n",
    "    PROMPTS = yaml.safe_load(file)"
   ]
  },
  {
   "cell_type": "code",
   "execution_count": 17,
   "metadata": {},
   "outputs": [],
   "source": [
    "class Task(BaseModel):\n",
    "    \"\"\"`Task` object repesents a general subproblem, decomoposed from the orginal `input_problem` of the user\"\"\"\n",
    "    name: str = Field(..., description=\"Name of the task\")\n",
    "    description: str = Field(..., \n",
    "                             description=\"Essential description with details of the task, including the expected output\", \n",
    "                             examples=[{\"task\": \"what is the capital of France?\", \"expected_output\": \"city name\"},\n",
    "                                       {\"task\": \"who many times does the 'r' letter appear in strawberry?\", \"expected_output\": \"number of r's\"}])\n",
    "    \n",
    "\n",
    "class SolvedTask(Task):\n",
    "    \"\"\"`SolvedTask` object represents a task that has been solved by the system\"\"\"\n",
    "    solution: str = Field(..., description=\"The solution of the task\")\n",
    "    \n",
    "\n",
    "class InputState(BaseModel):\n",
    "    input_problem: str = Field(..., description=\"The original problem statement given by the user\")\n",
    "    task: Task = Field(..., description=\"The current task to be solved\")\n",
    "    task_history: list[SolvedTask] = Field([], description=\"List of tasks that have been solved so far\")\n",
    "\n",
    "\n",
    "class OutputState(BaseModel):\n",
    "    solution: str = Field(\"<<SOLUTION NOT FOUND>>\", description=\"The solution of the task without the thought process and the explanation. If the solution is not found, the value is `<<SOLUTION NOT FOUND>>`\")\n",
    "\n",
    "\n",
    "class SchemaAgentState(BaseModel):\n",
    "    messages: Annotated[list[AnyMessage], add_messages] = Field([])"
   ]
  },
  {
   "cell_type": "code",
   "execution_count": null,
   "metadata": {},
   "outputs": [],
   "source": [
    "class SchemaSetup:\n",
    "    def __call__(self, state: InputState) -> SchemaAgentState:\n",
    "        prompt_template = SystemMessagePromptTemplate.from_template(template=PROMPTS[\"system_prompt\"])\n",
    "        prompt_template = prompt_template.format_messages(input_problem=state.input_problem, task_history=state.task_history, task=state.task)[0]\n",
    "        setattr(prompt_template, \"source_node\", self.__class__.__name__)\n",
    "        return {\n",
    "            \"messages\": [prompt_template]\n",
    "        }"
   ]
  },
  {
   "cell_type": "code",
   "execution_count": null,
   "metadata": {},
   "outputs": [],
   "source": [
    "class Cognition:\n",
    "    def __init__(self):\n",
    "        self.cognition_llm = ChatOpenAI(model=\"gpt-4o\", top_p=0.8)\n",
    "        self.refine_cognition_llm = ChatOpenAI(model=\"gpt-4o\", temperature=0.4)\n",
    "        self.refine_counter = 0\n",
    "\n",
    "    def __call__(self, state: SchemaAgentState) -> SchemaAgentState:\n",
    "        if getattr(state.messages[-1], \"source_node\", None) == \"SchemaSetup\":\n",
    "            return self.first_round_cognition(state)\n",
    "        else:\n",
    "            self.refine_counter += 1\n",
    "            return self.refine_cognition(state)\n",
    "\n",
    "    def first_round_cognition(self, state: SchemaAgentState) -> SchemaAgentState:\n",
    "        ai_message = self.cognition_llm.invoke(state.messages)\n",
    "        setattr(ai_message, \"source_node\", self.__class__.__name__)\n",
    "        return {\n",
    "            \"messages\": [ai_message]\n",
    "        }\n",
    "\n",
    "    def refine_cognition(self, state: SchemaAgentState) -> SchemaAgentState:\n",
    "        context = state.messages + [HumanMessage(PROMPTS[\"refinement_prompt\"], source_node=self.__class__.__name__)]\n",
    "        ai_message = self.refine_cognition_llm.invoke(context)\n",
    "        setattr(ai_message, \"source_node\", self.__class__.__name__)\n",
    "        return {\n",
    "            \"messages\": [context[-1], ai_message]\n",
    "        }"
   ]
  },
  {
   "cell_type": "code",
   "execution_count": null,
   "metadata": {},
   "outputs": [],
   "source": [
    "class PartialEvaluation:\n",
    "    def __init__(self) -> None:\n",
    "        self.partial_evaluation_llm = ChatOpenAI(model=\"gpt-4o\", temperature=0.5, stop_sequences=[\"<</STOP>>\"])\n",
    "\n",
    "    def __call__(self, state: SchemaAgentState) -> SchemaAgentState:\n",
    "        context = state.messages + [HumanMessage(PROMPTS[\"evaluation_prompt\"], source_node=self.__class__.__name__)]\n",
    "        ai_message = self.partial_evaluation_llm.invoke(context)\n",
    "        setattr(ai_message, \"source_node\", self.__class__.__name__)\n",
    "        setattr(ai_message, \"is_ok\", ai_message.content.endswith(\"<<OK>>\"))\n",
    "        return {\n",
    "            \"messages\": [context[-1], ai_message]\n",
    "        }"
   ]
  },
  {
   "cell_type": "code",
   "execution_count": null,
   "metadata": {},
   "outputs": [],
   "source": [
    "class Resolution:\n",
    "    def __init__(self) -> None:\n",
    "        self.resolution_llm = (ChatOpenAI(model=\"gpt-4o-mini\", temperature=0.5)\n",
    "                               .with_structured_output(OutputState))\n",
    "\n",
    "    def __call__(self, state: SchemaAgentState) -> OutputState:\n",
    "        return self.resolution_llm.invoke(state.messages\n",
    "                                          + [HumanMessage(PROMPTS[\"resolution_prompt\"], \n",
    "                                                          source_node=self.__class__.__name__)])"
   ]
  },
  {
   "cell_type": "code",
   "execution_count": null,
   "metadata": {},
   "outputs": [],
   "source": [
    "setup = SchemaSetup()\n",
    "cognition = Cognition()\n",
    "evaluation = PartialEvaluation()\n",
    "resolution = Resolution()\n",
    "\n",
    "graph = StateGraph(SchemaAgentState, input=InputState, output=OutputState)\n",
    "graph.add_node(\"setup\", setup)\n",
    "graph.add_node(\"cognition\", cognition)\n",
    "graph.add_node(\"partial_evaluation\", evaluation)\n",
    "graph.add_node(\"resolution\", resolution)\n",
    "graph.add_edge(START, \"setup\")\n",
    "graph.add_edge(\"setup\", \"cognition\")\n",
    "graph.add_edge(\"cognition\", \"partial_evaluation\")\n",
    "graph.add_conditional_edges(\"partial_evaluation\", \n",
    "                            lambda state: \"resolve\" if getattr(state.messages[-1], \"is_ok\", False) else \"refine\", \n",
    "                            {\"resolve\": \"resolution\", \"refine\": \"cognition\"})\n",
    "graph.add_edge(\"resolution\", END)\n",
    "graph = graph.compile()"
   ]
  },
  {
   "cell_type": "code",
   "execution_count": 24,
   "metadata": {},
   "outputs": [
    {
     "data": {
      "image/png": "[encoded data removed]",
      "text/plain": [
       "<IPython.core.display.Image object>"
      ]
     },
     "metadata": {},
     "output_type": "display_data"
    }
   ],
   "source": [
    "from IPython.display import Image, display\n",
    "from langchain_core.runnables.graph import CurveStyle, MermaidDrawMethod, NodeStyles\n",
    "\n",
    "display(Image(graph.get_graph().draw_mermaid_png(draw_method=MermaidDrawMethod.API,)))"
   ]
  }
 ],
 "metadata": {
  "kernelspec": {
   "display_name": "CSF",
   "language": "python",
   "name": "python3"
  },
  "language_info": {
   "codemirror_mode": {
    "name": "ipython",
    "version": 3
   },
   "file_extension": ".py",
   "mimetype": "text/x-python",
   "name": "python",
   "nbconvert_exporter": "python",
   "pygments_lexer": "ipython3",
   "version": "3.12.0"
  }
 },
 "nbformat": 4,
 "nbformat_minor": 2
}
